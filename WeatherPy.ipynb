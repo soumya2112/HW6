{
 "cells": [
  {
   "cell_type": "markdown",
   "metadata": {},
   "source": [
    "# WeatherPy\n",
    "----\n",
    "\n",
    "### Analysis\n",
    "* As expected, the weather becomes significantly warmer as one approaches the equator (0 Deg. Latitude). More interestingly, however, is the fact that the southern hemisphere tends to be warmer this time of year than the northern hemisphere. This may be due to the tilt of the earth.\n",
    "* There is no strong relationship between latitude and cloudiness. However, it is interesting to see that a strong band of cities sits at 0, 80, and 100% cloudiness.\n",
    "* There is no strong relationship between latitude and wind speed. However, in northern hemispheres there is a flurry of cities with over 20 mph of wind.\n",
    "\n",
    "---\n",
    "\n",
    "#### Note\n",
    "* Instructions have been included for each segment. You do not have to follow them exactly, but they are included to help you think through the steps."
   ]
  },
  {
   "cell_type": "code",
   "execution_count": 16,
   "metadata": {
    "scrolled": true
   },
   "outputs": [],
   "source": [
    "# Dependencies and Setup\n",
    "import matplotlib.pyplot as plt\n",
    "import pandas as pd\n",
    "import numpy as np\n",
    "import requests\n",
    "import time\n",
    "import json\n",
    "# Import API key\n",
    "from api_keys import api_key\n",
    "\n",
    "\n",
    "# Incorporated citipy to determine city based on latitude and longitude\n",
    "from citipy import citipy\n",
    "\n",
    "\n",
    "# Output File (CSV)\n",
    "output_data_file = \"output_data/cities.csv\"\n",
    "\n",
    "# Range of latitudes and longitudes\n",
    "lat_range = (-90, 90)\n",
    "lng_range = (-180, 180)"
   ]
  },
  {
   "cell_type": "markdown",
   "metadata": {},
   "source": [
    "## Generate Cities List"
   ]
  },
  {
   "cell_type": "code",
   "execution_count": 17,
   "metadata": {
    "scrolled": true
   },
   "outputs": [
    {
     "name": "stdout",
     "output_type": "stream",
     "text": [
      "{\n",
      "    \"coord\": {\n",
      "        \"lon\": 77.24,\n",
      "        \"lat\": 38.42\n",
      "    },\n",
      "    \"weather\": [\n",
      "        {\n",
      "            \"id\": 801,\n",
      "            \"main\": \"Clouds\",\n",
      "            \"description\": \"few clouds\",\n",
      "            \"icon\": \"02n\"\n",
      "        }\n",
      "    ],\n",
      "    \"base\": \"stations\",\n",
      "    \"main\": {\n",
      "        \"temp\": 272.473,\n",
      "        \"pressure\": 891.11,\n",
      "        \"humidity\": 76,\n",
      "        \"temp_min\": 272.473,\n",
      "        \"temp_max\": 272.473,\n",
      "        \"sea_level\": 1033.67,\n",
      "        \"grnd_level\": 891.11\n",
      "    },\n",
      "    \"wind\": {\n",
      "        \"speed\": 1.16,\n",
      "        \"deg\": 232.5\n",
      "    },\n",
      "    \"clouds\": {\n",
      "        \"all\": 20\n",
      "    },\n",
      "    \"dt\": 1541955150,\n",
      "    \"sys\": {\n",
      "        \"message\": 0.003,\n",
      "        \"country\": \"CN\",\n",
      "        \"sunrise\": 1541899714,\n",
      "        \"sunset\": 1541936470\n",
      "    },\n",
      "    \"id\": 1280037,\n",
      "    \"name\": \"Shache\",\n",
      "    \"cod\": 200\n",
      "}\n"
     ]
    }
   ],
   "source": [
    "# iNITIALIZE LIST TO HOLD THE LATITUDE & LONGITUDE & CITIES\n",
    "\n",
    "Cities = []\n",
    "Latitude_long = []\n",
    "\n",
    "\n",
    "# Create a set of random lat and lng combinations\n",
    "latitude = np.random.uniform(low=-90.000, high=90.000, size=1500)\n",
    "longs = np.random.uniform(low=-180.000, high=180.000, size=1500)\n",
    "Latitude_long = zip(latitude, longs)\n",
    "\n",
    "# Identify nearest city for each lat, lng combination\n",
    "for Latitude_long in Latitude_long:\n",
    "    city = citipy.nearest_city(Latitude_long[0], Latitude_long[1]).city_name\n",
    "    \n",
    "    # If the city is unique, then add it to a our cities list\n",
    "    if city not in Cities:\n",
    "        Cities.append(city)\n",
    "\n",
    "url = \"http://api.openweathermap.org/data/2.5/weather?\"\n",
    "query_url = f\"{url}appid={api_key}&q=\" + Cities[0]\n",
    "response = requests.get(query_url)\n",
    "response = response.json()\n",
    "print(json.dumps(response, indent = 4))\n",
    "\n"
   ]
  },
  {
   "cell_type": "code",
   "execution_count": 6,
   "metadata": {},
   "outputs": [
    {
     "name": "stdout",
     "output_type": "stream",
     "text": [
      "Adding rikitea to \"weather\" list ...\n",
      "Adding mori to \"weather\" list ...\n",
      "Adding mahebourg to \"weather\" list ...\n",
      "Adding belushya guba to \"no weather list\" ...\n",
      "Adding mys shmidta to \"no weather list\" ...\n",
      "Adding kazachinskoye to \"weather\" list ...\n",
      "Adding aklavik to \"weather\" list ...\n",
      "Adding kralendijk to \"weather\" list ...\n",
      "Adding port lincoln to \"weather\" list ...\n",
      "Adding albany to \"weather\" list ...\n",
      "Adding abha to \"weather\" list ...\n",
      "Adding karratha to \"weather\" list ...\n",
      "Adding busselton to \"weather\" list ...\n",
      "Adding nelson bay to \"weather\" list ...\n",
      "Adding arraial do cabo to \"weather\" list ...\n",
      "Adding hilo to \"weather\" list ...\n",
      "Adding tuktoyaktuk to \"weather\" list ...\n",
      "Adding avarua to \"weather\" list ...\n",
      "Adding nyurba to \"weather\" list ...\n",
      "Adding itaituba to \"weather\" list ...\n",
      "Adding camacha to \"weather\" list ...\n",
      "Adding georgetown to \"weather\" list ...\n",
      "Adding punta arenas to \"weather\" list ...\n",
      "Adding cape town to \"weather\" list ...\n",
      "Adding lensk to \"weather\" list ...\n",
      "Adding saint-philippe to \"weather\" list ...\n",
      "Adding kiama to \"weather\" list ...\n",
      "Adding bubaque to \"weather\" list ...\n",
      "Adding khatanga to \"weather\" list ...\n",
      "Adding goundam to \"weather\" list ...\n",
      "Adding hamilton to \"weather\" list ...\n",
      "Adding tabulbah to \"no weather list\" ...\n",
      "Adding zlatoustovsk to \"no weather list\" ...\n",
      "Adding mar del plata to \"weather\" list ...\n",
      "Adding pisco to \"weather\" list ...\n",
      "Adding atuona to \"weather\" list ...\n",
      "Adding micheweni to \"weather\" list ...\n",
      "Adding cherskiy to \"weather\" list ...\n",
      "Adding castro to \"weather\" list ...\n",
      "Adding jamestown to \"weather\" list ...\n",
      "Adding saskylakh to \"weather\" list ...\n",
      "Adding port elizabeth to \"weather\" list ...\n",
      "Adding jhinjhak to \"weather\" list ...\n",
      "Adding vaitupu to \"no weather list\" ...\n",
      "Adding bathsheba to \"weather\" list ...\n",
      "Adding kadykchan to \"no weather list\" ...\n",
      "Adding wilmington to \"weather\" list ...\n",
      "Adding dayong to \"weather\" list ...\n",
      "Adding gurlan to \"weather\" list ...\n",
      "Adding atkinson to \"weather\" list ...\n",
      "Adding sinnamary to \"weather\" list ...\n",
      "Adding dikson to \"weather\" list ...\n",
      "Adding ushuaia to \"weather\" list ...\n",
      "Adding tarbes to \"weather\" list ...\n",
      "Adding east london to \"weather\" list ...\n",
      "Adding angouleme to \"weather\" list ...\n",
      "Adding hithadhoo to \"weather\" list ...\n",
      "Adding hermanus to \"weather\" list ...\n",
      "Adding hovd to \"weather\" list ...\n",
      "Adding qui nhon to \"no weather list\" ...\n",
      "Adding bluff to \"weather\" list ...\n",
      "Adding rio grande to \"weather\" list ...\n",
      "Adding tiarei to \"weather\" list ...\n",
      "Adding lucapa to \"weather\" list ...\n",
      "Adding hobart to \"weather\" list ...\n",
      "Adding yellowknife to \"weather\" list ...\n",
      "Adding namibe to \"weather\" list ...\n",
      "Adding great malvern to \"weather\" list ...\n",
      "Adding morondava to \"weather\" list ...\n",
      "Adding kortkeros to \"weather\" list ...\n",
      "Adding fortuna to \"weather\" list ...\n",
      "Adding minot to \"weather\" list ...\n",
      "Adding kamenskoye to \"no weather list\" ...\n",
      "Adding mataura to \"weather\" list ...\n",
      "Adding taolanaro to \"no weather list\" ...\n",
      "Adding butaritari to \"weather\" list ...\n",
      "Adding norman wells to \"weather\" list ...\n",
      "Adding olafsvik to \"no weather list\" ...\n",
      "Adding simoes to \"weather\" list ...\n",
      "Adding leningradskiy to \"weather\" list ...\n",
      "Adding fairbanks to \"weather\" list ...\n",
      "Adding tiksi to \"weather\" list ...\n"
     ]
    }
   ],
   "source": [
    "#initialize variables\n",
    "Latitude = []\n",
    "Longitude = []\n",
    "Weather = []\n",
    "Date = []\n",
    "Humidity = []\n",
    "Cloudiness = []\n",
    "Country = []\n",
    "Speed = []\n",
    "city_list_with_weather = []\n",
    "city_list_without_weather = []\n",
    "\n",
    "#i = 0\n",
    "#j = 1\n",
    "for city in Cities:\n",
    "    url = \"http://api.openweathermap.org/data/2.5/weather?\"\n",
    "    query_url = f\"{url}appid={api_key}&units=metric&q=\" + city\n",
    "    response = requests.get(query_url)\n",
    "    response = response.json()\n",
    "    try:\n",
    "        Weather_cloudiness = response[\"clouds\"][\"all\"]\n",
    "        Weather_country = response[\"sys\"][\"country\"]\n",
    "        Weather_date = response[\"dt\"]\n",
    "        Weather_humidity = response['main']['humidity']\n",
    "        Weather_lat = response['coord']['lat']\n",
    "        Weather_lng = response['coord']['lon']\n",
    "        Weather_temp = response['main']['temp_max']\n",
    "        Weather_Speed = response['wind']['speed']\n",
    "        Weather_city = city\n",
    "        Cloudiness.append( Weather_cloudiness)\n",
    "        Country.append(Weather_country)\n",
    "        Date.append(Weather_date)\n",
    "        Humidity.append(Weather_humidity)\n",
    "        Latitude.append(Weather_lat)\n",
    "        Longitude.append(Weather_lng)\n",
    "        Weather.append(Weather_temp)\n",
    "        Speed.append(Weather_Speed)\n",
    "        print('Adding %s to \"weather\" list ...'% city)\n",
    "        city_list_with_weather.append(Weather_city)\n",
    "    except KeyError:\n",
    "        print('Adding %s to \"no weather list\" ...' % city) \n",
    "        city_list_without_weather.append(city)\n",
    "\n"
   ]
  },
  {
   "cell_type": "markdown",
   "metadata": {},
   "source": [
    "### Perform API Calls\n",
    "* Perform a weather check on each city using a series of successive API calls.\n",
    "* Include a print log of each city as it'sbeing processed (with the city number and city name).\n"
   ]
  },
  {
   "cell_type": "code",
   "execution_count": 7,
   "metadata": {},
   "outputs": [
    {
     "data": {
      "text/html": [
       "<div>\n",
       "<style scoped>\n",
       "    .dataframe tbody tr th:only-of-type {\n",
       "        vertical-align: middle;\n",
       "    }\n",
       "\n",
       "    .dataframe tbody tr th {\n",
       "        vertical-align: top;\n",
       "    }\n",
       "\n",
       "    .dataframe thead th {\n",
       "        text-align: right;\n",
       "    }\n",
       "</style>\n",
       "<table border=\"1\" class=\"dataframe\">\n",
       "  <thead>\n",
       "    <tr style=\"text-align: right;\">\n",
       "      <th></th>\n",
       "      <th>City</th>\n",
       "      <th>Cloudiness</th>\n",
       "      <th>Country</th>\n",
       "      <th>Date</th>\n",
       "      <th>Humidity</th>\n",
       "      <th>Lat</th>\n",
       "      <th>Lng</th>\n",
       "      <th>Max Temp</th>\n",
       "      <th>Wind Speed</th>\n",
       "    </tr>\n",
       "  </thead>\n",
       "  <tbody>\n",
       "    <tr>\n",
       "      <th>0</th>\n",
       "      <td>tiksi</td>\n",
       "      <td>76</td>\n",
       "      <td>PF</td>\n",
       "      <td>1541954988</td>\n",
       "      <td>100</td>\n",
       "      <td>-23.12</td>\n",
       "      <td>-134.97</td>\n",
       "      <td>21.22</td>\n",
       "      <td>2.61</td>\n",
       "    </tr>\n",
       "    <tr>\n",
       "      <th>1</th>\n",
       "      <td>tiksi</td>\n",
       "      <td>92</td>\n",
       "      <td>JP</td>\n",
       "      <td>1541954698</td>\n",
       "      <td>100</td>\n",
       "      <td>34.86</td>\n",
       "      <td>137.94</td>\n",
       "      <td>14.22</td>\n",
       "      <td>1.56</td>\n",
       "    </tr>\n",
       "    <tr>\n",
       "      <th>2</th>\n",
       "      <td>tiksi</td>\n",
       "      <td>40</td>\n",
       "      <td>MU</td>\n",
       "      <td>1541952000</td>\n",
       "      <td>78</td>\n",
       "      <td>-20.41</td>\n",
       "      <td>57.70</td>\n",
       "      <td>26.00</td>\n",
       "      <td>4.10</td>\n",
       "    </tr>\n",
       "    <tr>\n",
       "      <th>3</th>\n",
       "      <td>tiksi</td>\n",
       "      <td>32</td>\n",
       "      <td>RU</td>\n",
       "      <td>1541954700</td>\n",
       "      <td>87</td>\n",
       "      <td>57.69</td>\n",
       "      <td>93.28</td>\n",
       "      <td>-25.76</td>\n",
       "      <td>2.31</td>\n",
       "    </tr>\n",
       "    <tr>\n",
       "      <th>4</th>\n",
       "      <td>tiksi</td>\n",
       "      <td>90</td>\n",
       "      <td>CA</td>\n",
       "      <td>1541952000</td>\n",
       "      <td>85</td>\n",
       "      <td>68.22</td>\n",
       "      <td>-135.01</td>\n",
       "      <td>-12.00</td>\n",
       "      <td>3.60</td>\n",
       "    </tr>\n",
       "  </tbody>\n",
       "</table>\n",
       "</div>"
      ],
      "text/plain": [
       "    City  Cloudiness Country        Date  Humidity    Lat     Lng  Max Temp  \\\n",
       "0  tiksi          76      PF  1541954988       100 -23.12 -134.97     21.22   \n",
       "1  tiksi          92      JP  1541954698       100  34.86  137.94     14.22   \n",
       "2  tiksi          40      MU  1541952000        78 -20.41   57.70     26.00   \n",
       "3  tiksi          32      RU  1541954700        87  57.69   93.28    -25.76   \n",
       "4  tiksi          90      CA  1541952000        85  68.22 -135.01    -12.00   \n",
       "\n",
       "   Wind Speed  \n",
       "0        2.61  \n",
       "1        1.56  \n",
       "2        4.10  \n",
       "3        2.31  \n",
       "4        3.60  "
      ]
     },
     "execution_count": 7,
     "metadata": {},
     "output_type": "execute_result"
    }
   ],
   "source": [
    "\n",
    "\n",
    "\n",
    "weather_data = {\"City\": city, \"Cloudiness\": Cloudiness, \"Country\": Country, \"Date\": Date, \"Humidity\": Humidity,\n",
    "               \"Lat\": Latitude, \"Lng\": Longitude, \"Max Temp\": Weather, \"Wind Speed\": Speed}\n",
    "weather_file = pd.DataFrame(weather_data)\n",
    "weather_file.count()\n",
    "weather_file.head()\n"
   ]
  },
  {
   "cell_type": "code",
   "execution_count": 8,
   "metadata": {},
   "outputs": [
    {
     "data": {
      "image/png": "[encoded data removed]",
      "text/plain": [
       "<Figure size 432x288 with 1 Axes>"
      ]
     },
     "metadata": {
      "needs_background": "light"
     },
     "output_type": "display_data"
    }
   ],
   "source": [
    "plt.scatter(weather_file['Lat'], weather_file['Max Temp'], marker = 'o')\n",
    "plt.title('Lattitude vs Temperature')\n",
    "plt.ylabel(\"tempature (C)\")\n",
    "plt.xlabel('Lattitude')\n",
    "plt.grid()\n",
    "plt.savefig(\"../Images/LatTemp.png\")\n",
    "plt.show()"
   ]
  },
  {
   "cell_type": "code",
   "execution_count": 10,
   "metadata": {},
   "outputs": [
    {
     "data": {
      "image/png": "[encoded data removed]",
      "text/plain": [
       "<Figure size 432x288 with 1 Axes>"
      ]
     },
     "metadata": {
      "needs_background": "light"
     },
     "output_type": "display_data"
    }
   ],
   "source": [
    "plt.scatter(weather_file['Lat'], weather_file['Humidity'], marker = 'o')\n",
    "plt.title('lattitude vs Humidity')\n",
    "plt.ylabel('Humidity (%)')\n",
    "plt.xlabel('Lattitude')\n",
    "plt.grid()\n",
    "plt.savefig(\"../Images/LatHumidity.png\")\n",
    "plt.show()"
   ]
  },
  {
   "cell_type": "markdown",
   "metadata": {},
   "source": [
    "### Convert Raw Data to DataFrame\n",
    "* Export the city data into a .csv.\n",
    "* Display the DataFrame"
   ]
  },
  {
   "cell_type": "code",
   "execution_count": 11,
   "metadata": {},
   "outputs": [
    {
     "data": {
      "image/png": "[encoded data removed]",
      "text/plain": [
       "<Figure size 432x288 with 1 Axes>"
      ]
     },
     "metadata": {
      "needs_background": "light"
     },
     "output_type": "display_data"
    }
   ],
   "source": [
    "plt.scatter(weather_file['Lat'], weather_file['Cloudiness'], marker = 'o')\n",
    "plt.title(\"Lattitude vs Cloudiness\")\n",
    "plt.ylabel('cloudiness (%)')\n",
    "plt.xlabel('lattitude')\n",
    "plt.grid()\n",
    "plt.savefig(\"../Images/Latcloudiness.png\")\n",
    "plt.show()"
   ]
  },
  {
   "cell_type": "code",
   "execution_count": 13,
   "metadata": {},
   "outputs": [
    {
     "data": {
      "image/png": "[encoded data removed]",
      "text/plain": [
       "<Figure size 432x288 with 1 Axes>"
      ]
     },
     "metadata": {
      "needs_background": "light"
     },
     "output_type": "display_data"
    }
   ],
   "source": [
    "plt.scatter(weather_file['Lat'], weather_file['Wind Speed'], marker = 'o')\n",
    "plt.title('Latitude vs wind speed')\n",
    "plt.ylabel('wind speed (kmh)')\n",
    "plt.xlabel('Lattitude')\n",
    "plt.grid()\n",
    "plt.savefig(\"../Images/Latwindspeed.png\")\n",
    "plt.show()"
   ]
  },
  {
   "cell_type": "markdown",
   "metadata": {},
   "source": [
    "### Plotting the Data\n",
    "* Use proper labeling of the plots using plot titles (including date of analysis) and axes labels.\n",
    "* Save the plotted figures as .pngs."
   ]
  },
  {
   "cell_type": "markdown",
   "metadata": {},
   "source": [
    "#### Latitude vs. Temperature Plot"
   ]
  },
  {
   "cell_type": "code",
   "execution_count": null,
   "metadata": {},
   "outputs": [],
   "source": []
  },
  {
   "cell_type": "markdown",
   "metadata": {},
   "source": [
    "#### Latitude vs. Humidity Plot"
   ]
  },
  {
   "cell_type": "code",
   "execution_count": null,
   "metadata": {},
   "outputs": [],
   "source": []
  },
  {
   "cell_type": "markdown",
   "metadata": {},
   "source": [
    "#### Latitude vs. Cloudiness Plot"
   ]
  },
  {
   "cell_type": "code",
   "execution_count": null,
   "metadata": {},
   "outputs": [],
   "source": []
  },
  {
   "cell_type": "markdown",
   "metadata": {},
   "source": [
    "#### Latitude vs. Wind Speed Plot"
   ]
  },
  {
   "cell_type": "code",
   "execution_count": null,
   "metadata": {},
   "outputs": [],
   "source": []
  },
  {
   "cell_type": "code",
   "execution_count": null,
   "metadata": {},
   "outputs": [],
   "source": []
  }
 ],
 "metadata": {
  "anaconda-cloud": {},
  "kernelspec": {
   "display_name": "Python 3",
   "language": "python",
   "name": "python3"
  },
  "language_info": {
   "codemirror_mode": {
    "name": "ipython",
    "version": 3
   },
   "file_extension": ".py",
   "mimetype": "text/x-python",
   "name": "python",
   "nbconvert_exporter": "python",
   "pygments_lexer": "ipython3",
   "version": "3.7.0"
  }
 },
 "nbformat": 4,
 "nbformat_minor": 2
}
